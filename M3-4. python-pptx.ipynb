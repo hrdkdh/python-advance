{
 "cells": [
  {
   "cell_type": "code",
   "execution_count": null,
   "metadata": {},
   "outputs": [],
   "source": [
    "from pptx import Presentation"
   ]
  },
  {
   "cell_type": "markdown",
   "metadata": {},
   "source": [
    "### Presentation 객체 생성하고 저장하기"
   ]
  },
  {
   "cell_type": "code",
   "execution_count": null,
   "metadata": {},
   "outputs": [],
   "source": [
    "prs = Presentation()\n",
    "prs.save(\"테스트.pptx\")"
   ]
  },
  {
   "cell_type": "markdown",
   "metadata": {},
   "source": [
    "### PPT 파일 로드해 내용 들여다 보기"
   ]
  },
  {
   "cell_type": "code",
   "execution_count": null,
   "metadata": {},
   "outputs": [],
   "source": [
    "prs = Presentation(\"data/사내 어린이집 원아모집.pptx\") #PC에 저장된 ppt 파일 로드\n",
    "len(prs.slides) #ppt 파일에 있는 슬라이드의 개수 확인"
   ]
  },
  {
   "cell_type": "code",
   "execution_count": null,
   "metadata": {},
   "outputs": [],
   "source": [
    "slide1 = prs.slides[0] #첫 번째 슬라이드(0번 슬라이드)를 slide1 변수에 저장\n",
    "len(slide1.shapes) #첫 번째 슬라이드에 있는 개체들의 개수 확인"
   ]
  },
  {
   "cell_type": "code",
   "execution_count": null,
   "metadata": {},
   "outputs": [],
   "source": [
    "for shape in prs.slides[0].shapes: #첫 번째 슬라이드의 개체들에 반복문으로 접근\n",
    "    print(shape.shape_type)"
   ]
  },
  {
   "cell_type": "code",
   "execution_count": null,
   "metadata": {},
   "outputs": [],
   "source": [
    "for shape in prs.slides[0].shapes: #첫 번째 슬라이드의 개체들에 반복문으로 접근\n",
    "    if shape.shape_type == 1 or shape.shape_type == 17: #개체의 유형이 글상자거나 도형이라면\n",
    "        print(shape.text) #텍스트 출력"
   ]
  },
  {
   "cell_type": "markdown",
   "metadata": {},
   "source": [
    "### 텍스트 개체의 내용 수정하기"
   ]
  },
  {
   "cell_type": "code",
   "execution_count": null,
   "metadata": {},
   "outputs": [],
   "source": [
    "prs = Presentation(\"data/사내 어린이집 원아모집.pptx\") #파일을 로드하여 파워포인트 객체 생성\n",
    "slide1 = prs.slides[0] #prs 객체의 0번 슬라이드를 slide1에 저장\n",
    "for shape in slide1.shapes: #slide1.shapes를 하나씩 불러오기\n",
    "    if shape.shape_type == 1 and \"원아모집 (안내)\" in shape.text: #제목 도형인지 체크하기 위한 필터링\n",
    "        shape.text = \"어린이집 모집안내\" #해당 도형의 텍스트 값 변경\n",
    "prs.save(\"사내 어린이집 원아모집_수정.pptx\") #다른 파워포인트 파일로 저장"
   ]
  },
  {
   "cell_type": "markdown",
   "metadata": {},
   "source": [
    "### 텍스트 개체의 서식 변경하기"
   ]
  },
  {
   "cell_type": "code",
   "execution_count": null,
   "metadata": {},
   "outputs": [],
   "source": [
    "from pptx import Presentation\n",
    "from pptx.util import Pt #폰트 크기 설정을 위해 로드(Pt : point를 의미)\n",
    "from pptx.dml.color import RGBColor #색 설정을 위해 로드 \n",
    "from pptx.enum.text import PP_ALIGN #텍스트 정렬을 위해 로드 \n",
    "\n",
    "prs = Presentation(\"data/사내 어린이집 원아모집.pptx\") #파일을 로드하여 파워포인트 객체 생성\n",
    "slide1 = prs.slides[0] #prs 객체의 0번 슬라이드를 slide1에 저장\n",
    "for shape in slide1.shapes: #slide1.shapes를 하나씩 불러오기\n",
    "    if shape.shape_type == 1 and \"원아모집 (안내)\" in shape.text: #제목 도형인지 체크한 후 내용/서식 수정\n",
    "        shape.text = \"어린이집 모집안내\" #도형의 텍스트 변경\n",
    "        shape.text_frame.paragraphs[0].alignment = PP_ALIGN.CENTER #중앙 정렬\n",
    "        shape.text_frame.paragraphs[0].font.bold = True #볼드체로 설정\n",
    "        shape.text_frame.paragraphs[0].font.name = \"맑은 고딕\" #맑은 고딕 서체로 설정\n",
    "        shape.text_frame.paragraphs[0].font.size = Pt(20) #폰트 크기 20으로 설정\n",
    "        shape.text_frame.paragraphs[0].font.color.rgb = RGBColor(0xFF, 0xFF, 0xFF) #흰색으로 설정\n",
    "prs.save(\"사내 어린이집 원아모집_서식수정.pptx\") #파일 저장"
   ]
  },
  {
   "cell_type": "markdown",
   "metadata": {},
   "source": [
    "### 표 내용 불러오고 수정하기 "
   ]
  },
  {
   "cell_type": "code",
   "execution_count": null,
   "metadata": {},
   "outputs": [],
   "source": [
    "prs = Presentation(\"data/사내 어린이집 원아모집.pptx\") #파일을 로드하여 파워포인트 객체 생성\n",
    "slide1 = prs.slides[0] #prs 객체의 0번 슬라이드를 slide1에 저장\n",
    "for shape in slide1.shapes: #slide1.shapes를 하나씩 불러오기\n",
    "    if shape.has_table: #표만 따로 필터링하기. has_table 속성으로 표인지 체크 가능\n",
    "        print(shape.table.cell(row_idx=0, col_idx=0).text) #출력값: 모집구분. 0번행, 0번열\n",
    "        print(shape.table.cell(0, 1).text) #출력값: 생년월일, 1번행, 1번열\n",
    "        for cell in shape.table.iter_cells(): #반복문을 통해 순차적으로 접근(행 → 열 순)\n",
    "            print(cell.text) #접근중인 셀의 내용 출력"
   ]
  }
 ],
 "metadata": {
  "interpreter": {
   "hash": "27d72380f3865b4c7008c9c7901bfeb11f576f51ea7eb885160f000a78c1db8d"
  },
  "kernelspec": {
   "display_name": "Python 3.7.9 64-bit",
   "language": "python",
   "name": "python3"
  },
  "language_info": {
   "codemirror_mode": {
    "name": "ipython",
    "version": 3
   },
   "file_extension": ".py",
   "mimetype": "text/x-python",
   "name": "python",
   "nbconvert_exporter": "python",
   "pygments_lexer": "ipython3",
   "version": "3.7.9"
  },
  "orig_nbformat": 4
 },
 "nbformat": 4,
 "nbformat_minor": 2
}

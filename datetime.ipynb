{
 "cells": [
  {
   "cell_type": "markdown",
   "metadata": {},
   "source": [
    "### 시간 가져오기"
   ]
  },
  {
   "cell_type": "code",
   "execution_count": null,
   "metadata": {},
   "outputs": [],
   "source": [
    "from datetime import datetime"
   ]
  },
  {
   "cell_type": "code",
   "execution_count": null,
   "metadata": {},
   "outputs": [],
   "source": [
    "#현재 날짜와 시간 가져오기\n",
    "now = datetime.now() #날짜 정보가 datetime 객체로 저장되어 출력됨\n",
    "now #출력결과 : datetime.datetime(2022, 5, 25, 8, 31, 39, 808794)"
   ]
  },
  {
   "cell_type": "code",
   "execution_count": null,
   "metadata": {},
   "outputs": [],
   "source": [
    "#현재 날짜에서 년월일시만 따로 뽑아 출력\n",
    "now.year, now.month, now.day, now.hour, now.minute, now.second"
   ]
  },
  {
   "cell_type": "code",
   "execution_count": null,
   "metadata": {},
   "outputs": [],
   "source": [
    "#현재 날짜를 문자열 자료형으로 변환해 출력하기(strftime은 string from time의 줄임말)\n",
    "datetime.strftime(now, \"%Y-%m-%d %H:%M:%S\") #입력한 포맷에 맞춰 문자열을 datetime으로 변환한 후 출력해 줌"
   ]
  },
  {
   "cell_type": "code",
   "execution_count": null,
   "metadata": {},
   "outputs": [],
   "source": [
    "#문자열로 된 날짜를 datetime 객체로 만들기(strptime : time parsed from a string)\n",
    "datetime1 = datetime.strptime(\"2022-05-24\", \"%Y-%m-%d\")\n",
    "datetime2 = datetime.strptime(\"2022/05/24 16:25:30\", \"%Y/%m/%d %H:%M:%S\")\n",
    "datetime1, datetime2"
   ]
  },
  {
   "cell_type": "markdown",
   "metadata": {},
   "source": [
    "### 시간 계산하기"
   ]
  },
  {
   "cell_type": "code",
   "execution_count": null,
   "metadata": {},
   "outputs": [],
   "source": [
    "#시간 계산을 위해서는 datetime 패키지의 timedelta 모듈을 로드하여 사용\n",
    "from datetime import timedelta"
   ]
  },
  {
   "cell_type": "code",
   "execution_count": null,
   "metadata": {},
   "outputs": [],
   "source": [
    "#두 날짜 사이의 차이 구하기\n",
    "gap1 = now - datetime1\n",
    "gap1 "
   ]
  },
  {
   "cell_type": "code",
   "execution_count": null,
   "metadata": {},
   "outputs": [],
   "source": [
    "gap2 = now - datetime2\n",
    "gap2 "
   ]
  },
  {
   "cell_type": "code",
   "execution_count": null,
   "metadata": {},
   "outputs": [],
   "source": [
    "before1 = now - timedelta(days=20) #지금으로부터 20일 전 날짜 구하기\n",
    "datetime.strftime(before1, \"%Y-%m-%d\") "
   ]
  },
  {
   "cell_type": "code",
   "execution_count": null,
   "metadata": {},
   "outputs": [],
   "source": [
    "before2 = now - timedelta(hours=4) #지금으로부터 4시간 전 시간 구하기\n",
    "datetime.strftime(before2, \"%Y-%m-%d %H:%M:%S\") "
   ]
  },
  {
   "cell_type": "code",
   "execution_count": null,
   "metadata": {},
   "outputs": [],
   "source": [
    "before3 = now - timedelta(days=365) #1년 전 오늘의 요일 구하기\n",
    "datetime.strftime(before3, \"%A\") "
   ]
  }
 ],
 "metadata": {
  "interpreter": {
   "hash": "27d72380f3865b4c7008c9c7901bfeb11f576f51ea7eb885160f000a78c1db8d"
  },
  "kernelspec": {
   "display_name": "Python 3.7.9 64-bit",
   "language": "python",
   "name": "python3"
  },
  "language_info": {
   "codemirror_mode": {
    "name": "ipython",
    "version": 3
   },
   "file_extension": ".py",
   "mimetype": "text/x-python",
   "name": "python",
   "nbconvert_exporter": "python",
   "pygments_lexer": "ipython3",
   "version": "3.7.9"
  },
  "orig_nbformat": 4
 },
 "nbformat": 4,
 "nbformat_minor": 2
}

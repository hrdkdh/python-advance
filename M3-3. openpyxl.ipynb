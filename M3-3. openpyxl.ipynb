{
 "cells": [
  {
   "cell_type": "code",
   "execution_count": null,
   "metadata": {},
   "outputs": [],
   "source": [
    "from openpyxl import Workbook #openpyxl의 Workbook 클래스 로드"
   ]
  },
  {
   "cell_type": "markdown",
   "metadata": {},
   "source": [
    "### Workbook 객체에 내용을 넣어 엑셀 파일로 저장하기"
   ]
  },
  {
   "cell_type": "code",
   "execution_count": null,
   "metadata": {},
   "outputs": [],
   "source": [
    "wb = Workbook()\t#Workbook 객체 생성\n",
    "wb.sheetnames #Workbook 객체에 담긴 시트 목록 출력"
   ]
  },
  {
   "cell_type": "code",
   "execution_count": null,
   "metadata": {},
   "outputs": [],
   "source": [
    "ws = wb[\"Sheet\"] #시트 선택 -> Worksheet 객체 출력\n",
    "ws.title #Worksheet 객체의 시트명 확인"
   ]
  },
  {
   "cell_type": "code",
   "execution_count": null,
   "metadata": {},
   "outputs": [],
   "source": [
    "ws.title=\"시트1\" #ws 시트의 시트명 변경\n",
    "ws.title #변경된 시트명 확인"
   ]
  },
  {
   "cell_type": "code",
   "execution_count": null,
   "metadata": {},
   "outputs": [],
   "source": [
    "ws.append([\"이름\",\"나이\",\"성별\"]) #ws의 첫 번째 행부터 차례로 내용 추가\n",
    "ws.append([\"이순신\",\"55\",\"남자\"]) #두 번째 행에 내용 추가"
   ]
  },
  {
   "cell_type": "code",
   "execution_count": null,
   "metadata": {},
   "outputs": [],
   "source": [
    "wb.save(filename=\"테스트.xlsx\") #Workbook 객체를 엑셀 파일로 저장"
   ]
  },
  {
   "cell_type": "markdown",
   "metadata": {},
   "source": [
    "### 저장된 엑셀 파일 불러와 내용 접근/수정하기"
   ]
  },
  {
   "cell_type": "code",
   "execution_count": null,
   "metadata": {},
   "outputs": [],
   "source": [
    "from openpyxl import load_workbook"
   ]
  },
  {
   "cell_type": "code",
   "execution_count": null,
   "metadata": {},
   "outputs": [],
   "source": [
    "wb = load_workbook(\"data/인원 리스트.xlsx\") #엑셀 파일을 불러와 Workbook 객체 생성\n",
    "wb.sheetnames #엑셀 파일에 있는 시트 확인"
   ]
  },
  {
   "cell_type": "code",
   "execution_count": null,
   "metadata": {},
   "outputs": [],
   "source": [
    "wb.copy_worksheet(wb[\"Sheet1\"]) #'Sheet1' 시트를 복사\n",
    "wb.sheetnames #'Sheet1 Copy' 이름으로 복사된 것을 확인"
   ]
  },
  {
   "cell_type": "code",
   "execution_count": null,
   "metadata": {},
   "outputs": [],
   "source": [
    "ws = wb[\"Sheet1 Copy\"] #'Sheet1 Copy' 시트를 선택해 Worksheet객체를 생성, ws 변수에 저장\n",
    "cell1 = ws[\"A1\"] #셀주소 A1 선택\n",
    "cell1 #Cell 객체 출력"
   ]
  },
  {
   "cell_type": "code",
   "execution_count": null,
   "metadata": {},
   "outputs": [],
   "source": [
    "cell2 = ws[1][0] #1번째 행, 0번째 열 선택(= A1)  *행번호는 1부터, 열번호는 0부터 시작함에 주의\n",
    "cell2 #Cell 객체 출력 -> cell1 변수에 저장한 Cell 객체와 동일한 것을 확인"
   ]
  },
  {
   "cell_type": "code",
   "execution_count": null,
   "metadata": {},
   "outputs": [],
   "source": [
    "cell1.value, cell2.value #cell1 객체의 값과 cell2 객체의 값을 출력해 비교 -> 동일한 것을 확인"
   ]
  },
  {
   "cell_type": "code",
   "execution_count": null,
   "metadata": {},
   "outputs": [],
   "source": [
    "for row in ws: #Worksheet 객체를 반복문으로 접근하면 행별로 루프 가능\n",
    "    print(row) #row 변수에는 각 행의 셀 객체들이 튜플로 묶여 저장되어 있음"
   ]
  },
  {
   "cell_type": "code",
   "execution_count": null,
   "metadata": {},
   "outputs": [],
   "source": [
    "for row in ws: \n",
    "    row_data = \"\"\n",
    "    for cell in row: #행별로 루프를 돌면서 각 셀 객체에 반복문을 통해 접근\n",
    "        row_data += cell.value + \"\\t\" #셀 객체의 value로 셀 내용에 접근하고 탭으로 구분해 row_data 변수에 저장\n",
    "    print(row_data) #한 행의 작업이 끝나면 row_data 변수를 출력"
   ]
  },
  {
   "cell_type": "code",
   "execution_count": null,
   "metadata": {},
   "outputs": [],
   "source": [
    "for row_idx, row in enumerate(ws): #enumerate 함수로 루프 시의 index 번호를 함께 가져옴\n",
    "    row_data = \"\"\n",
    "    for col_idx, cell in enumerate(row): #enumerate 함수로 루프 시의 index 번호를 함께 가져옴\n",
    "        if row_idx > 0 and col_idx == 0: #두 번째 행 이후부터는 첫 번째 열에 접근해 내용 수정\n",
    "            cell.value = \"*\" #'성' 열에 해당하는 내용은 모두 * 기호로 변경\n",
    "        row_data += cell.value + \"\\t\" #셀 객체의 value로 셀 내용에 접근하고 탭으로 구분해 row_data 변수에 저장\n",
    "    print(row_data) #한 행의 작업이 끝나면 row_data 변수를 출력"
   ]
  },
  {
   "cell_type": "markdown",
   "metadata": {},
   "source": [
    "### 엑셀 서식 조정하기"
   ]
  },
  {
   "cell_type": "code",
   "execution_count": 57,
   "metadata": {},
   "outputs": [],
   "source": [
    "from openpyxl.styles import Font, PatternFill, Alignment, Side, Border\n",
    "\n",
    "wb = load_workbook(\"data/인원 리스트.xlsx\") #엑셀 파일을 불러와 Workbook 객체 생성\n",
    "ws = wb[\"Sheet1\"] #엑셀 파일에 있는 'Sheet1' 시트 선택\n",
    "\n",
    "#색 지정 시 구글에서 '헥사코드 색상표'로 검색해 헥사코드로 넣을 것\n",
    "#참고 : http://www.hipenpal.com/tool/html-color-charts-rgb-color-table-in-korean.php\n",
    "\n",
    "for row_idx, row in enumerate(ws): #enumerate 함수로 루프 시의 index 번호를 함께 가져옴\n",
    "    for cell in row:\n",
    "        if row_idx == 0: #첫 번째 행은 표의 헤더에 해당하므로 강조해 줌\n",
    "            cell.font = Font(color=\"FFFFFF\", sz=12, b=True)\n",
    "            cell.fill = PatternFill(fill_type=\"solid\", start_color=\"0064FF\") \n",
    "            cell.alignment = Alignment(horizontal=\"center\", vertical=\"center\")\n",
    "            side_style = Side(style=\"medium\", color=\"898989\")\n",
    "            cell.border = Border(left=side_style, right=side_style, top=side_style, bottom=side_style)\n",
    "        else: #나머지 행은 정렬과 테두리색만 변경함\n",
    "            cell.alignment = Alignment(horizontal=\"center\", vertical=\"center\")\n",
    "            side_style = Side(style=\"medium\", color=\"898989\")\n",
    "            cell.border = Border(left=side_style, right=side_style, top=side_style, bottom=side_style)\n",
    "\n",
    "wb.save(\"인원 리스트_서식조정 결과.xlsx\") #서식조정 결과를 다른 파일로 저장"
   ]
  },
  {
   "cell_type": "markdown",
   "metadata": {},
   "source": [
    "### 엑셀 행높이/열너비 조정하기"
   ]
  },
  {
   "cell_type": "code",
   "execution_count": 69,
   "metadata": {},
   "outputs": [],
   "source": [
    "wb = load_workbook(\"인원 리스트_서식조정 결과.xlsx\") #서식 작업이 끝난 엑셀 파일 로드\n",
    "ws = wb[\"Sheet1\"] #엑셀 파일에 있는 'Sheet1' 시트 선택\n",
    "\n",
    "for i in range(1, 12): #1~11까지의 범위로 반복문 실행\n",
    "    ws.row_dimensions[i].height = 30 #1~11번째 행의 높이를 30으로 일괄 조정\n",
    "\n",
    "#열별 너비는 별도로 지정\n",
    "ws.column_dimensions[\"A\"].width = 8\n",
    "ws.column_dimensions[\"B\"].width = 8\n",
    "ws.column_dimensions[\"C\"].width = 22\n",
    "ws.column_dimensions[\"D\"].width = 16\n",
    "ws.column_dimensions[\"E\"].width = 28\n",
    "ws.column_dimensions[\"F\"].width = 18\n",
    "\n",
    "wb.save(\"인원 리스트_높이너비 조정 결과.xlsx\") #행높이, 열너비 조정 결과를 다른 파일로 저장"
   ]
  }
 ],
 "metadata": {
  "interpreter": {
   "hash": "27d72380f3865b4c7008c9c7901bfeb11f576f51ea7eb885160f000a78c1db8d"
  },
  "kernelspec": {
   "display_name": "Python 3.7.9 64-bit",
   "language": "python",
   "name": "python3"
  },
  "language_info": {
   "codemirror_mode": {
    "name": "ipython",
    "version": 3
   },
   "file_extension": ".py",
   "mimetype": "text/x-python",
   "name": "python",
   "nbconvert_exporter": "python",
   "pygments_lexer": "ipython3",
   "version": "3.7.9"
  },
  "orig_nbformat": 4
 },
 "nbformat": 4,
 "nbformat_minor": 2
}

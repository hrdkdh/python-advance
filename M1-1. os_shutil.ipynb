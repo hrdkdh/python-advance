{
 "cells": [
  {
   "cell_type": "markdown",
   "metadata": {},
   "source": [
    "### os 모듈 : 폴더/파일 목록 불러오기"
   ]
  },
  {
   "cell_type": "code",
   "execution_count": null,
   "metadata": {},
   "outputs": [],
   "source": [
    "import os #모듈 임포트"
   ]
  },
  {
   "cell_type": "code",
   "execution_count": null,
   "metadata": {},
   "outputs": [],
   "source": [
    "os.getcwd() #현재 작업 중인 파이썬 파일(or 주피터노트북 파일)이 위치한 곳의 경로를 출력"
   ]
  },
  {
   "cell_type": "code",
   "execution_count": null,
   "metadata": {},
   "outputs": [],
   "source": [
    "#파라미터로 입력한 폴더에 있는 하위 폴더와 파일들의 목록을 리스트로 출력\n",
    "os.listdir(r\"C:\\Users\") #출력결과 : ['All Users', 'Default', 'Default User', 'desktop.ini', 'poscouser', 'Public']"
   ]
  },
  {
   "cell_type": "code",
   "execution_count": null,
   "metadata": {},
   "outputs": [],
   "source": [
    "#반복문을 사용하면 원하는 폴더나 파일만 필터링해 볼 수 있음\n",
    "for file in os.listdir(r\"C:\\Users\") :\n",
    "    if \"posco\" in file: #파일명에 'posco' 단어가 들어간 파일만 출력\n",
    "        print(file) #출력결과 : poscouser"
   ]
  },
  {
   "cell_type": "code",
   "execution_count": null,
   "metadata": {},
   "outputs": [],
   "source": [
    "for file in os.listdir(r\"C:\\Users\") :\n",
    "    if file.split(\".\")[-1] == \"ini\": #split() 함수를 사용해 특정 확장자만 골라내 출력\n",
    "        print(file) #출력결과 : desktop.ini"
   ]
  },
  {
   "cell_type": "code",
   "execution_count": null,
   "metadata": {},
   "outputs": [],
   "source": [
    "#새로운 폴더를 생성   (주의) 폴더가 이미 존재할 경우 에러 출력\n",
    "os.mkdir(r\"C:\\Users\\poscouser\\Desktop\\test\")"
   ]
  },
  {
   "cell_type": "code",
   "execution_count": null,
   "metadata": {},
   "outputs": [],
   "source": [
    "#폴더의 이름을 변경\n",
    "os.rename(r\"C:\\Users\\poscouser\\Desktop\\test\", r\"C:\\Users\\poscouser\\Desktop\\test2\")"
   ]
  },
  {
   "cell_type": "code",
   "execution_count": null,
   "metadata": {},
   "outputs": [],
   "source": [
    "#os.rmdir(폴더경로) : 폴더를 삭제.   (주의) 폴더 내부에 파일이 있을 경우 삭제 불가\n",
    "os.rmdir(r\"C:\\Users\\poscouser\\Desktop\\test2\")"
   ]
  },
  {
   "cell_type": "markdown",
   "metadata": {},
   "source": [
    "### shutil 모듈 : 폴더/파일 복사"
   ]
  },
  {
   "cell_type": "code",
   "execution_count": null,
   "metadata": {},
   "outputs": [],
   "source": [
    "import os, shutil\n",
    "\n",
    "root_dir = r\"C:\\Users\\poscouser\\Desktop\\test_folder\" #작업할 폴더 지정\n",
    "os.mkdir(root_dir) #작업폴더 생성\n",
    "open(root_dir + \"/\" + \"test.txt\", \"w\").write(\"테스트 파일입니다.\") #샘플 텍스트 파일 생성"
   ]
  },
  {
   "cell_type": "code",
   "execution_count": null,
   "metadata": {},
   "outputs": [],
   "source": [
    "#test.txt 파일을 복사\n",
    "shutil.copy(root_dir + \"/\" + \"test.txt\", root_dir + \"/\" + \"test1.txt\") #메타 데이터 없이 복사\n",
    "shutil.copy2(root_dir + \"/\" + \"test.txt\", root_dir + \"/\" + \"test2.txt\") #메타 데이터와 함께 복사"
   ]
  },
  {
   "cell_type": "code",
   "execution_count": null,
   "metadata": {},
   "outputs": [],
   "source": [
    "#test2.txt 파일 이동\n",
    "shutil.move(root_dir + \"/\" + \"test2.txt\", r\"C:\\Users\\poscouser\\Desktop\")"
   ]
  },
  {
   "cell_type": "code",
   "execution_count": null,
   "metadata": {},
   "outputs": [],
   "source": [
    "#test_folder 폴더의 내용을 통째로 복사\n",
    "shutil.copytree(root_dir, r\"C:\\Users\\poscouser\\Desktop\\test_folder_copied\")"
   ]
  },
  {
   "cell_type": "code",
   "execution_count": null,
   "metadata": {},
   "outputs": [],
   "source": [
    "#폴더 내부 파일을 모두 삭제한 후 폴더 제거하기\n",
    "folder = r\"C:\\Users\\poscouser\\Desktop\\test_folder\"\n",
    "for file in os.listdir(folder):\n",
    "    os.remove(folder + \"/\" + file) #os.remove(삭제할 파일명) : 파일 삭제\n",
    "\n",
    "os.rmdir(folder)\n",
    "\n",
    "folder = r\"C:\\Users\\poscouser\\Desktop\\test_folder_copied\"\n",
    "for file in os.listdir(folder):\n",
    "    os.remove(folder + \"/\" + file) #os.remove(삭제할 파일명) : 파일 삭제\n",
    "\n",
    "os.rmdir(folder)"
   ]
  },
  {
   "cell_type": "code",
   "execution_count": null,
   "metadata": {},
   "outputs": [],
   "source": [
    "#바탕화면에 복사해 놓은 test2.txt 파일 삭제\n",
    "os.remove(r\"C:\\Users\\poscouser\\Desktop\\test2.txt\")"
   ]
  },
  {
   "cell_type": "markdown",
   "metadata": {},
   "source": [
    "### 엑셀 파일만 골라내 복사하기\n",
    "os와 shutil 모듈을 활용하면 특정 확장자에 해당하는 파일만 골라내 복사할 수 있습니다.\n",
    "\n",
    "data 폴더에 있는 파일들 중 엑셀파일만 추려낸 후, 바탕화면에 폴더를 하나 만들어 복사해 보세요."
   ]
  },
  {
   "cell_type": "code",
   "execution_count": 5,
   "metadata": {},
   "outputs": [],
   "source": [
    "import os\n",
    "import shutil\n",
    "\n",
    "target_folder = r\"C:\\Users\\poscouser\\Desktop\\엑셀파일\" #복사된 파일이 들어갈 폴더경로 지정\n",
    "os.mkdir(target_folder) #바탕화면에 폴더 생성\n",
    "\n",
    "file_list = os.listdir(\"data\") #작업폴더 하위에 있는 data 폴더로 접근해 파일 리스트 불러오기\n",
    "for file in file_list: #파일 리스트를 반복문으로 돌면서\n",
    "    if file.split(\".\")[-1] == \"xlsx\": #확장자가 xlsx인 파일일 경우에 한해\n",
    "        shutil.copy2(\"data/\" + file, target_folder + \"/\" + file) #바탕화면에 만든 폴더로 복사"
   ]
  }
 ],
 "metadata": {
  "interpreter": {
   "hash": "27d72380f3865b4c7008c9c7901bfeb11f576f51ea7eb885160f000a78c1db8d"
  },
  "kernelspec": {
   "display_name": "Python 3.7.9 64-bit",
   "language": "python",
   "name": "python3"
  },
  "language_info": {
   "codemirror_mode": {
    "name": "ipython",
    "version": 3
   },
   "file_extension": ".py",
   "mimetype": "text/x-python",
   "name": "python",
   "nbconvert_exporter": "python",
   "pygments_lexer": "ipython3",
   "version": "3.7.9"
  },
  "orig_nbformat": 4
 },
 "nbformat": 4,
 "nbformat_minor": 2
}

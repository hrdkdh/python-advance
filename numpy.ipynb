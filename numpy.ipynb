{
 "cells": [
  {
   "cell_type": "markdown",
   "metadata": {},
   "source": [
    "### 행렬 생성하고 모양 확인하기"
   ]
  },
  {
   "cell_type": "code",
   "execution_count": null,
   "metadata": {},
   "outputs": [],
   "source": [
    "import numpy as np\n",
    "\n",
    "#일반 리스트 자료형으로 2차원 행렬 생성. 대괄호 하나는 축(차원)을 의미\n",
    "arr = [[1, 2, 3],\n",
    "       [4, 5, 6]]\n",
    "\n",
    "#리스트 자료형으로 된 행렬을 numpy.ndarray 객체로 변환\n",
    "np_arr = np.array(arr)"
   ]
  },
  {
   "cell_type": "code",
   "execution_count": null,
   "metadata": {},
   "outputs": [],
   "source": [
    "#numpy.ndarray의 차원수 확인\n",
    "np_arr.ndim #출력결과 : 2"
   ]
  },
  {
   "cell_type": "code",
   "execution_count": null,
   "metadata": {},
   "outputs": [],
   "source": [
    "#numpy.ndarray의 모양 확인\n",
    "np_arr.shape #출력결과 : (2, 3) -> 2행 3열의 2차원 행렬"
   ]
  },
  {
   "cell_type": "code",
   "execution_count": null,
   "metadata": {},
   "outputs": [],
   "source": [
    "#numpy.ndarray의 성분 갯수 확인\n",
    "np_arr.size #출력결과 : 6"
   ]
  },
  {
   "cell_type": "markdown",
   "metadata": {},
   "source": [
    "### 다양한 행렬 생성 함수"
   ]
  },
  {
   "cell_type": "code",
   "execution_count": null,
   "metadata": {},
   "outputs": [],
   "source": [
    "empty_arr = np.empty(shape=(2, 3)) #임의값으로 초기화된 2행 3열의 2차원 행렬 생성\n",
    "empty_arr"
   ]
  },
  {
   "cell_type": "code",
   "execution_count": null,
   "metadata": {},
   "outputs": [],
   "source": [
    "zero_arr = np.zeros(shape=(2, 3)) #0으로 초기화된 2행 3열의 2차원 행렬 생성\n",
    "zero_arr"
   ]
  },
  {
   "cell_type": "code",
   "execution_count": null,
   "metadata": {},
   "outputs": [],
   "source": [
    "ones_arr = np.ones(shape=(2, 3)) #1로 초기화된 2행 3열의 2차원 행렬 생성\n",
    "ones_arr"
   ]
  },
  {
   "cell_type": "code",
   "execution_count": null,
   "metadata": {},
   "outputs": [],
   "source": [
    "full_arr = np.full(shape=(2, 3) , fill_value=5) #5로 초기화된 2행 3열의 2차원 행렬 생성\n",
    "full_arr"
   ]
  },
  {
   "cell_type": "markdown",
   "metadata": {},
   "source": [
    "### 행렬 인덱싱/슬라이싱"
   ]
  },
  {
   "cell_type": "code",
   "execution_count": null,
   "metadata": {},
   "outputs": [],
   "source": [
    "arr = [[1, 2, 3],\n",
    "       [4, 5, 6],\n",
    "       [7, 8, 9]]\n",
    "np_arr = np.array(arr) #2차원 numpy.ndarray 행렬 생성"
   ]
  },
  {
   "cell_type": "code",
   "execution_count": null,
   "metadata": {},
   "outputs": [],
   "source": [
    "#np_arr[행선택기준, 열선택기준] 방식으로 인덱싱/슬라이싱\n",
    "#3차원 행렬이라면 쉼표를 하나 더 추가하여 요소선택 기준을 입력하면 됨 예) np_arr[행, 열, 요소]\n",
    "np_arr[0, 0] #0번째 행의 0번째 열 선택 -> 1"
   ]
  },
  {
   "cell_type": "code",
   "execution_count": null,
   "metadata": {},
   "outputs": [],
   "source": [
    "np_arr[:, 0] #모든 행의 0번째 열 선택 -> array([1, 4, 7])"
   ]
  },
  {
   "cell_type": "code",
   "execution_count": null,
   "metadata": {},
   "outputs": [],
   "source": [
    "np_arr[0, :] #0번째 행의 모든 열 선택 -> array([1, 2, 3])"
   ]
  },
  {
   "cell_type": "code",
   "execution_count": null,
   "metadata": {},
   "outputs": [],
   "source": [
    "np_arr[0] #열 기준은 생략가능. 위와 동일한 결과 출력 -> array([1, 2, 3])"
   ]
  },
  {
   "cell_type": "code",
   "execution_count": null,
   "metadata": {},
   "outputs": [],
   "source": [
    "np_arr[0:2] #행 범위를 지정하여 슬라이싱 -> 0번째와 1번째의 2개행 출력"
   ]
  },
  {
   "cell_type": "code",
   "execution_count": null,
   "metadata": {},
   "outputs": [],
   "source": [
    "np_arr[0:2, 1:3] #행/열 범위를 지정하여 슬라이싱 -> 0~1행의 1~2열 출력"
   ]
  },
  {
   "cell_type": "code",
   "execution_count": null,
   "metadata": {},
   "outputs": [],
   "source": [
    "np_arr[:2, 1:] #처음부터 시작하거나 끝까지 슬라이싱할 것이라면, 그 부분은 생략가능(위와 동일한 결과)"
   ]
  },
  {
   "cell_type": "markdown",
   "metadata": {},
   "source": [
    "### 행렬 계산하기"
   ]
  },
  {
   "cell_type": "code",
   "execution_count": null,
   "metadata": {},
   "outputs": [],
   "source": [
    "arr = [[1, 2, 3],\n",
    "       [4, 5, 6],\n",
    "       [7, 8, 9]]\n",
    "np_arr = np.array(arr) #2차원 numpy.ndarray 행렬 생성"
   ]
  },
  {
   "cell_type": "code",
   "execution_count": null,
   "metadata": {},
   "outputs": [],
   "source": [
    "np_arr.mean() #행렬 모든 성분값들의 평균 계산 -> 5.0"
   ]
  },
  {
   "cell_type": "code",
   "execution_count": null,
   "metadata": {},
   "outputs": [],
   "source": [
    "np_arr.sum() #행렬 모든 성분값들의 합계 계산 -> 45"
   ]
  },
  {
   "cell_type": "code",
   "execution_count": null,
   "metadata": {},
   "outputs": [],
   "source": [
    "np_arr[0, :].sum() #특정 영역을 슬라이싱하여 평균/합계 등의 계산도 가능 -> 3"
   ]
  },
  {
   "cell_type": "code",
   "execution_count": null,
   "metadata": {},
   "outputs": [],
   "source": [
    "np_arr.min() #행렬 모든 성분값들 중 최소값 산출 -> 1"
   ]
  },
  {
   "cell_type": "code",
   "execution_count": null,
   "metadata": {},
   "outputs": [],
   "source": [
    "np_arr.max() #행렬 모든 성분값들 중 최대값 산출 -> 9"
   ]
  },
  {
   "cell_type": "code",
   "execution_count": null,
   "metadata": {},
   "outputs": [],
   "source": [
    "np_arr.argmin() #행렬에서 최소값이 위치한 곳의 인덱스 번호 산출 -> 0"
   ]
  },
  {
   "cell_type": "code",
   "execution_count": null,
   "metadata": {},
   "outputs": [],
   "source": [
    "np_arr.argmax() #행렬에서 최대값이 위치한 곳의 인덱스 번호 산출 -> 8"
   ]
  },
  {
   "cell_type": "code",
   "execution_count": null,
   "metadata": {},
   "outputs": [],
   "source": [
    "np_arr[0, :].argmax() #범위를 지정해  최대값이 위치한 곳의 인덱스 번호 산출 -> 2"
   ]
  },
  {
   "cell_type": "markdown",
   "metadata": {},
   "source": [
    "### 행렬 모양 바꾸기 / 축 추가"
   ]
  },
  {
   "cell_type": "code",
   "execution_count": null,
   "metadata": {},
   "outputs": [],
   "source": [
    "arr = [[1,  2,  3,  4],\n",
    "       [5,  6,  7,  8],\n",
    "       [9, 10, 11, 12]]\n",
    "np_arr = np.array(arr) #3행 4열의 2차원 numpy.ndarray 행렬 생성 (성분의 갯수는 12개)\n",
    "\n",
    "#reshape() 메소드를 사용 시 주의사항 : 변경될 shape의 성분 갯수는 원본 성분의 갯수와 동일해야 함"
   ]
  },
  {
   "cell_type": "code",
   "execution_count": null,
   "metadata": {},
   "outputs": [],
   "source": [
    "np_arr.reshape(shape=(1, 12)) #1행 12열로 바꾸기 (1*12 = 12)"
   ]
  },
  {
   "cell_type": "code",
   "execution_count": null,
   "metadata": {},
   "outputs": [],
   "source": [
    "np_arr.reshape(1, 12) #shape을 튜플로 넣지 않고 *args 형태로 바로 넣어도 무방 (결과는 위와 동일)"
   ]
  },
  {
   "cell_type": "code",
   "execution_count": null,
   "metadata": {},
   "outputs": [],
   "source": [
    "np_arr.reshape(12) #12행으로 바꾸기"
   ]
  },
  {
   "cell_type": "code",
   "execution_count": null,
   "metadata": {},
   "outputs": [],
   "source": [
    "np_arr.reshape(2, 6) #2행 6열로 바꾸기 (2*6 = 12)"
   ]
  },
  {
   "cell_type": "code",
   "execution_count": null,
   "metadata": {},
   "outputs": [],
   "source": [
    "np_arr.reshape(2, 5) #새로운 모양의 성분 갯수가 원본과 맞지 않으면 에러 발생(2*5=10 / 원본 성분은 12개)"
   ]
  },
  {
   "cell_type": "code",
   "execution_count": null,
   "metadata": {},
   "outputs": [],
   "source": [
    "np_arr.reshape(4, 3) #4행 3열로 바꾸기 (4*3 = 12)"
   ]
  },
  {
   "cell_type": "code",
   "execution_count": null,
   "metadata": {},
   "outputs": [],
   "source": [
    "np_arr.reshape(4, -1) #자동으로 결정되는 부분에 -1을 넣으면 모양을 알아서 지정해 줌. 결과는 위와 동일"
   ]
  },
  {
   "cell_type": "code",
   "execution_count": null,
   "metadata": {},
   "outputs": [],
   "source": [
    "np_arr.reshape(1, 3, 4) #축 추가 : 1행 3열 4요소 3차원 행렬로 바꾸기(1*3*4 = 12)"
   ]
  },
  {
   "cell_type": "code",
   "execution_count": null,
   "metadata": {},
   "outputs": [],
   "source": [
    "np_arr.reshape(2, 3, 2) #축 추가 : 2행 3열 2요소 3차원 행렬로 바꾸기 (2*3*2 = 12)"
   ]
  }
 ],
 "metadata": {
  "interpreter": {
   "hash": "27d72380f3865b4c7008c9c7901bfeb11f576f51ea7eb885160f000a78c1db8d"
  },
  "kernelspec": {
   "display_name": "Python 3.7.9 64-bit",
   "language": "python",
   "name": "python3"
  },
  "language_info": {
   "codemirror_mode": {
    "name": "ipython",
    "version": 3
   },
   "file_extension": ".py",
   "mimetype": "text/x-python",
   "name": "python",
   "nbconvert_exporter": "python",
   "pygments_lexer": "ipython3",
   "version": "3.7.9"
  },
  "orig_nbformat": 4
 },
 "nbformat": 4,
 "nbformat_minor": 2
}

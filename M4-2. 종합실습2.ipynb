{
 "cells": [
  {
   "cell_type": "markdown",
   "metadata": {},
   "source": [
    "유관부서에 종이문서 대량 발송을 위해 문서수발 수신자 라벨 작성이 필요합니다.\n",
    "\n",
    "pandas로 수신자 목록 파일을 로드하고, python-pptx를 이용해 PPT 양식 파일에 내용을 입력한 후 저장해 보세요.\n",
    "\n",
    "(사용파일 : 수신자 목록.xlsx, 문서수발 라벨 양식.pptx)"
   ]
  },
  {
   "cell_type": "code",
   "execution_count": null,
   "metadata": {},
   "outputs": [],
   "source": [
    "import pandas as pd\n",
    "from pptx import Presentation\n",
    "from pptx.util import Pt\n",
    "from pptx.dml.color import RGBColor"
   ]
  },
  {
   "cell_type": "code",
   "execution_count": null,
   "metadata": {},
   "outputs": [],
   "source": [
    "df = pd.read_excel(\"data/수신자 목록.xlsx\")\n",
    "prs = Presentation(\"data/문서수발 라벨 양식.pptx\")"
   ]
  },
  {
   "cell_type": "code",
   "execution_count": null,
   "metadata": {},
   "outputs": [],
   "source": [
    "print(len(prs.slides)) #-> 3출력. 총 3장의 슬라이드로 구성되었음을 알 수 있음\n",
    "print(len(prs.slides[0].shapes)) #-> 8출력. 각 슬라이드에는 8개의 개체가 있음"
   ]
  },
  {
   "cell_type": "code",
   "execution_count": null,
   "metadata": {},
   "outputs": [],
   "source": [
    "df_row_no = 0\n",
    "for slide in prs.slides: #반복문으로 각 슬라이드를 접근하면서\n",
    "    for shape in slide.shapes: #슬라이드 속 개체를 반복문으로 접근\n",
    "        this_data = df.iloc[df_row_no] #현재 반복문의 df_row_no에 맞춰 df에 iloc를 통해 접근, 행을 하나 불러온다.\n",
    "        for cell in shape.table.iter_cells(): #표 개체 속 셀을 반복문으로 접근\n",
    "            if cell.text == \"부서명 입력란\":\n",
    "                cell.text = this_data[\"부서\"]\n",
    "            elif cell.text == \"수신자 입력란\":\n",
    "                cell.text = this_data[\"수신자\"]\n",
    "            elif cell.text == \"연락처 입력란\":\n",
    "                cell.text = this_data[\"연락처\"]\n",
    "            #표 하나의 입력 작업이 끝나면 서식을 조정한다.\n",
    "            cell.text_frame.paragraphs[0].font.size = Pt(12) #폰트 크기 12로 설정\n",
    "            cell.text_frame.paragraphs[0].font.color.rgb = RGBColor(0x00, 0x00, 0x00) #폰트 검은색\n",
    "            cell.text_frame.paragraphs[0].font.bold = True #볼드체로 설정\n",
    "\n",
    "        df_row_no += 1 #표 하나의 입력 작업이 끝나면 df_row_no 변수에 1씩 더해 df 접근 idx를 갱신한다."
   ]
  },
  {
   "cell_type": "code",
   "execution_count": null,
   "metadata": {},
   "outputs": [],
   "source": [
    "prs.save(\"문서수발 라벨작업 결과.pptx\") #작업결과를 ppt 파일로 저장"
   ]
  }
 ],
 "metadata": {
  "interpreter": {
   "hash": "27d72380f3865b4c7008c9c7901bfeb11f576f51ea7eb885160f000a78c1db8d"
  },
  "kernelspec": {
   "display_name": "Python 3.7.9 64-bit",
   "language": "python",
   "name": "python3"
  },
  "language_info": {
   "codemirror_mode": {
    "name": "ipython",
    "version": 3
   },
   "file_extension": ".py",
   "mimetype": "text/x-python",
   "name": "python",
   "nbconvert_exporter": "python",
   "pygments_lexer": "ipython3",
   "version": "3.7.9"
  },
  "orig_nbformat": 4
 },
 "nbformat": 4,
 "nbformat_minor": 2
}

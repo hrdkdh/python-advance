{
 "cells": [
  {
   "cell_type": "markdown",
   "metadata": {},
   "source": [
    "### json 문자열을 딕셔너리로 변환하기"
   ]
  },
  {
   "cell_type": "code",
   "execution_count": null,
   "metadata": {},
   "outputs": [],
   "source": [
    "import json"
   ]
  },
  {
   "cell_type": "code",
   "execution_count": null,
   "metadata": {},
   "outputs": [],
   "source": [
    "#json 문자열이 저장된 텍스트 파일을 읽어와 json_str 변수에 저장\n",
    "json_str = open(\"data/json_str_sample.txt\", \"r\", encoding=\"utf-8\").readline()\n",
    "json_str"
   ]
  },
  {
   "cell_type": "code",
   "execution_count": null,
   "metadata": {},
   "outputs": [],
   "source": [
    "#json_str 변수의 자료형 출력해보기\n",
    "type(json_str) #출력결과 : str  → 단순한 문자열 자료로, 파싱을 통해 딕셔너리 자료형으로 변환해야 함"
   ]
  },
  {
   "cell_type": "code",
   "execution_count": null,
   "metadata": {},
   "outputs": [],
   "source": [
    "json_obj = json.loads(json_str) #json.loads() 함수에 json 문자열을 파라미터로 넣으면 딕셔너리로 변환해 줌\n",
    "json_obj\n",
    "\n",
    "#출력결과 : 딕셔너리 자료형으로 변환되었으므로 줄바꿈되어 출력 → 사람 눈에는 문자열과 차이가 없어 보이지만 객체로 변환된 것"
   ]
  },
  {
   "cell_type": "code",
   "execution_count": null,
   "metadata": {},
   "outputs": [],
   "source": [
    "type(json_obj) #출력결과 : dict  → 딕셔너리 자료로 변환된 것을 확인할 수 있음"
   ]
  },
  {
   "cell_type": "code",
   "execution_count": null,
   "metadata": {},
   "outputs": [],
   "source": [
    "#json_obj 딕셔너리에서 '명단'을 key로 가지고 있는 value를 불러와 출력\n",
    "json_obj[\"명단\"]"
   ]
  },
  {
   "cell_type": "code",
   "execution_count": null,
   "metadata": {},
   "outputs": [],
   "source": [
    "#json_obj[\"명단\"]의 value는 리스트 자료이므로, 인덱스 넘버를 통해 특정 요소에 접근가능\n",
    "json_obj[\"명단\"][0]"
   ]
  },
  {
   "cell_type": "code",
   "execution_count": null,
   "metadata": {},
   "outputs": [],
   "source": [
    "#json_obj[\"명단\"][0]의 value는 딕셔너리 자료이므로, key 값을 통해 특정 요소에 접근가능\n",
    "json_obj[\"명단\"][0][\"이름\"]"
   ]
  },
  {
   "cell_type": "markdown",
   "metadata": {},
   "source": [
    "### 딕셔너리 자료를 json 문자열로 만들기"
   ]
  },
  {
   "cell_type": "code",
   "execution_count": null,
   "metadata": {},
   "outputs": [],
   "source": [
    "#딕셔너리 자료 생성\n",
    "data = {\n",
    "    \"모임명\" : \"파이썬 동호회\",\n",
    "    \"명단\" : [\"홍길동\", \"이순신\", \"강감찬\"]\n",
    "}"
   ]
  },
  {
   "cell_type": "code",
   "execution_count": null,
   "metadata": {},
   "outputs": [],
   "source": [
    "#json.dumps() 함수에 딕셔너리 자료를 파라미터로 넣으면 json 문자열로 변환해 줌\n",
    "#한글이 들어간 자료를 json 문자열로 변환할 때는 ensure_ascii를 False로 해야 함\n",
    "data_to_json = json.dumps(data, ensure_ascii=False)\n",
    "data_to_json"
   ]
  },
  {
   "cell_type": "code",
   "execution_count": null,
   "metadata": {},
   "outputs": [],
   "source": [
    "type(data_to_json) #출력결과 : str → 딕셔너리 자료가 문자열로 변환된 것을 확인할 수 있음"
   ]
  },
  {
   "cell_type": "code",
   "execution_count": null,
   "metadata": {},
   "outputs": [],
   "source": [
    "#json 문자열을 텍스트 파일로 저장 → 나중에 로드하여 파싱하면 딕셔너리 변수로 바로 활용 가능\n",
    "open(\"json_str_result.txt\", \"w\", encoding=\"utf-8\").write(data_to_json)"
   ]
  }
 ],
 "metadata": {
  "interpreter": {
   "hash": "27d72380f3865b4c7008c9c7901bfeb11f576f51ea7eb885160f000a78c1db8d"
  },
  "kernelspec": {
   "display_name": "Python 3.7.9 64-bit",
   "language": "python",
   "name": "python3"
  },
  "language_info": {
   "codemirror_mode": {
    "name": "ipython",
    "version": 3
   },
   "file_extension": ".py",
   "mimetype": "text/x-python",
   "name": "python",
   "nbconvert_exporter": "python",
   "pygments_lexer": "ipython3",
   "version": "3.7.9"
  },
  "orig_nbformat": 4
 },
 "nbformat": 4,
 "nbformat_minor": 2
}

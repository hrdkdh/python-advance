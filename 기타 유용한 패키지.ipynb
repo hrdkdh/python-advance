{
 "cells": [
  {
   "cell_type": "markdown",
   "metadata": {},
   "source": [
    "### clipboard 모듈 : 클립보드 내용 복사/붙여넣기하기"
   ]
  },
  {
   "cell_type": "code",
   "execution_count": null,
   "metadata": {},
   "outputs": [],
   "source": [
    "import clipboard"
   ]
  },
  {
   "cell_type": "code",
   "execution_count": null,
   "metadata": {},
   "outputs": [],
   "source": [
    "#clipboard.copy(\"클립보드에 넣을 내용\") → 텍스트가 클립보드에 복사됨\n",
    "clipboard.copy(\"포스코\") #메모장을 열고, Ctrl+V를 실행하면 '포스코' 텍스트가 붙여넣기 됨"
   ]
  },
  {
   "cell_type": "code",
   "execution_count": null,
   "metadata": {},
   "outputs": [],
   "source": [
    "#clipboard.paste() → 클립보드에 복사되어 있는 텍스트를 리턴해줌\n",
    "clipboard_data = clipboard.paste() #아무 텍스트나 복사한 후 실행\n",
    "clipboard_data #출력결과 : 복사해 놓은 텍스트가 출력됨"
   ]
  }
 ],
 "metadata": {
  "interpreter": {
   "hash": "27d72380f3865b4c7008c9c7901bfeb11f576f51ea7eb885160f000a78c1db8d"
  },
  "kernelspec": {
   "display_name": "Python 3.7.9 64-bit",
   "language": "python",
   "name": "python3"
  },
  "language_info": {
   "codemirror_mode": {
    "name": "ipython",
    "version": 3
   },
   "file_extension": ".py",
   "mimetype": "text/x-python",
   "name": "python",
   "nbconvert_exporter": "python",
   "pygments_lexer": "ipython3",
   "version": "3.7.9"
  },
  "orig_nbformat": 4
 },
 "nbformat": 4,
 "nbformat_minor": 2
}

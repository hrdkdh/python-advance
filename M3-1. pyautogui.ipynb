{
 "cells": [
  {
   "cell_type": "markdown",
   "metadata": {},
   "source": [
    "### 자동으로 파워포인트 실행하기\n",
    "pyautogui 패키지를 활용하여 윈도우에 있는 파워포인트 프로그램을 자동으로 실행해 봅시다.\n",
    "\n",
    "실행방법은 다양하지만, 윈도우 버튼을 클릭해 파워포인트 프로그램을 검색, 실행하는 것으로 합니다."
   ]
  },
  {
   "cell_type": "code",
   "execution_count": null,
   "metadata": {},
   "outputs": [],
   "source": [
    "import pyautogui as pg\n",
    "\n",
    "#화면 좌측 하단에 있는 윈도우 버튼 위치로 마우스를 이동시킨다.\n",
    "pg.moveTo(x=22, y=1059)\n",
    "\n",
    "#마우스로 윈도우 버튼을 클릭하게 한다.\n",
    "pg.click()\n",
    "\n",
    "#'powerpoint'를 타이핑하여 파워포인트 프로그램을 검색한다.\n",
    "pg.write(\"powerpoint\", interval=0.1)\n",
    "\n",
    "#검색 결과가 나올 때까지 1초간 대기한 후 엔터키를 눌러 실행시킨다.\n",
    "pg.sleep(1) #pg.sleep(seconds) -> 입력한 숫자(초 단위) 만큼 대기\n",
    "pg.press(\"enter\")"
   ]
  },
  {
   "cell_type": "markdown",
   "metadata": {},
   "source": [
    "### 메시지 박스로 상호작용하기"
   ]
  },
  {
   "cell_type": "code",
   "execution_count": null,
   "metadata": {},
   "outputs": [],
   "source": [
    "pg.alert(text=\"경고입니다.\", title=\"경고창\", button=\"OK\")"
   ]
  },
  {
   "cell_type": "code",
   "execution_count": null,
   "metadata": {},
   "outputs": [],
   "source": [
    "answer1 = pg.confirm(text=\"탕수육은 부먹보다 찍먹이 옳다.\", title=\"확인해 주세요\", buttons=[\"네\", \"아니오\"])\n",
    "answer1"
   ]
  },
  {
   "cell_type": "code",
   "execution_count": null,
   "metadata": {},
   "outputs": [],
   "source": [
    "answer2 = pg.prompt(text=\"부먹 or 찍먹을 선택한 이유에 대해 아래에 적어주세요.\", title=\"부먹/찍먹 선택이유\", default=\"여기에 적어 주세요.\")\n",
    "answer2"
   ]
  },
  {
   "cell_type": "code",
   "execution_count": null,
   "metadata": {},
   "outputs": [],
   "source": [
    "password = pg.password(text=\"계좌 비밀번호를 아래에 입력해 주세요.\", title=\"비밀번호 입력\")\n",
    "password"
   ]
  },
  {
   "cell_type": "markdown",
   "metadata": {},
   "source": [
    "### 휴지통 자동으로 비우기\n",
    "휴지통 아이콘이 위치한 곳으로 마우스를 이동시킨 다음 오른쪽 마우스 버튼을 클릭한 후\n",
    "\n",
    "'휴지통 비우기' 버튼을 클릭해 휴지통을 자동으로 비워주는 코드를 만들어 봅시다."
   ]
  },
  {
   "cell_type": "code",
   "execution_count": 84,
   "metadata": {},
   "outputs": [],
   "source": [
    "import pyautogui as pg\n",
    "\n",
    "pg.sleep(1)\n",
    "pg.hotkey(\"winleft\", \"d\")\n",
    "pg.sleep(1)\n",
    "bin_pos = pg.locateOnScreen(\"data/bin.png\", confidence=0.5)\n",
    "if bin_pos is None:\n",
    "    pg.alert(\"휴지통 아이콘을 찾지 못했습니다.\")\n",
    "else:\n",
    "    pg.moveTo(bin_pos)\n",
    "    pg.rightClick()\n",
    "    bin_btn_pos = pg.locateOnScreen(\"data/bin_out.png\", confidence=0.5)\n",
    "    pg.moveTo(bin_btn_pos)\n",
    "    pg.click()\n",
    "    pg.sleep(0.5)\n",
    "    pg.press(\"enter\")"
   ]
  }
 ],
 "metadata": {
  "interpreter": {
   "hash": "27d72380f3865b4c7008c9c7901bfeb11f576f51ea7eb885160f000a78c1db8d"
  },
  "kernelspec": {
   "display_name": "Python 3.7.9 64-bit",
   "language": "python",
   "name": "python3"
  },
  "language_info": {
   "codemirror_mode": {
    "name": "ipython",
    "version": 3
   },
   "file_extension": ".py",
   "mimetype": "text/x-python",
   "name": "python",
   "nbconvert_exporter": "python",
   "pygments_lexer": "ipython3",
   "version": "3.7.9"
  },
  "orig_nbformat": 4
 },
 "nbformat": 4,
 "nbformat_minor": 2
}

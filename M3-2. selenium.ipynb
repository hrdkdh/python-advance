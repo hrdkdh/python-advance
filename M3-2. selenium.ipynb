{
 "cells": [
  {
   "cell_type": "code",
   "execution_count": null,
   "metadata": {},
   "outputs": [],
   "source": [
    "from selenium import webdriver"
   ]
  },
  {
   "cell_type": "markdown",
   "metadata": {},
   "source": [
    "### 기본 사용법"
   ]
  },
  {
   "cell_type": "code",
   "execution_count": null,
   "metadata": {},
   "outputs": [],
   "source": [
    "driver = webdriver.Chrome(\"chromedriver\") #크롬 웹드라이버 파일을 지정하여 webdriver 객체 생성\n",
    "driver.get(\"https:/www.naver.com\") #크롬 브라우저가 뜨면 네이버로 접속"
   ]
  },
  {
   "cell_type": "code",
   "execution_count": null,
   "metadata": {},
   "outputs": [],
   "source": [
    "search_input = driver.find_element(\"css selector\", \"#query\") #네이버 메인 화면에서 검색어 입력창 탐색\n",
    "search_input.send_keys(\"포스코\") #탐색한 html 요소(검색어 입력창)에 '포스코' 입력"
   ]
  },
  {
   "cell_type": "code",
   "execution_count": null,
   "metadata": {},
   "outputs": [],
   "source": [
    "search_btn = driver.find_element(\"css selector\", \"#search_btn\") #검색 버튼 탐색\n",
    "search_btn.click() #검색 버튼 클릭"
   ]
  },
  {
   "cell_type": "markdown",
   "metadata": {},
   "source": [
    "### 응용 사용법"
   ]
  },
  {
   "cell_type": "code",
   "execution_count": null,
   "metadata": {},
   "outputs": [],
   "source": [
    "driver = webdriver.Chrome(\"chromedriver\") #크롬 웹드라이버 파일을 지정하여 webdriver 객체 생성\n",
    "driver.get(\"https:/www.naver.com\") #크롬 브라우저가 뜨면 네이버로 접속"
   ]
  },
  {
   "cell_type": "code",
   "execution_count": null,
   "metadata": {},
   "outputs": [],
   "source": [
    "#뉴스스탠드 버튼 클릭 -> 새창이 열리며 뉴스스탠드 화면으로 이동\n",
    "driver.find_element(\"css selector\", \".link_newsstand\").click()"
   ]
  },
  {
   "cell_type": "code",
   "execution_count": null,
   "metadata": {},
   "outputs": [],
   "source": [
    "tabs = driver.window_handles #열려져 있는 탭(창) 확인\n",
    "tabs #2개 창의 코드명이 리스트로 묶여 출력"
   ]
  },
  {
   "cell_type": "code",
   "execution_count": null,
   "metadata": {},
   "outputs": [],
   "source": [
    "driver.switch_to.window(tabs[0]) #첫 번째 탭으로 driver 객체의 포커스 이동"
   ]
  },
  {
   "cell_type": "code",
   "execution_count": null,
   "metadata": {},
   "outputs": [],
   "source": [
    "driver.switch_to.window(tabs[1]) #두 번째 탭으로 driver 객체의 포커스 이동"
   ]
  },
  {
   "cell_type": "code",
   "execution_count": null,
   "metadata": {},
   "outputs": [],
   "source": [
    "#다시 첫 번째 탭으로 driver 객체의 포커스를 이동 시킨 후 스크롤을 아래로 내리는 자바스크립트 코드 실행\n",
    "driver.switch_to.window(tabs[0])\n",
    "driver.execute_script(\"window.scroll(0, 1000);\")"
   ]
  },
  {
   "cell_type": "markdown",
   "metadata": {},
   "source": [
    "### 포스코 최신 뉴스의 제목 긁어오기\n",
    "네이버 뉴스에서 '포스코'로 검색해 나온 결과들 중 기사제목이 있는 html 요소를 선택하고,\n",
    "\n",
    "반복문으로 접근하여 html 속 텍스트(기사제목)를 출력해 봅시다."
   ]
  },
  {
   "cell_type": "code",
   "execution_count": null,
   "metadata": {},
   "outputs": [],
   "source": [
    "from selenium import webdriver\n",
    "\n",
    "driver = webdriver.Chrome(\"chromedriver\") #크롬 웹드라이버 파일을 지정하여 webdriver 객체 생성\n",
    "\n",
    "#포스코 뉴스 검색결과 페이지로 이동\n",
    "driver.get(\"https://search.naver.com/search.naver?where=news&sm=tab_jum&query=포스코\")"
   ]
  },
  {
   "cell_type": "code",
   "execution_count": null,
   "metadata": {},
   "outputs": [],
   "source": [
    "#기사 제목이 있는 html 요소를 css selector를 이용해 선택 (news_wrap 클래스 하위의 div 태그 하위의 a태그로 접근)\n",
    "news_list = driver.find_elements(\"css selector\", \".news_wrap > div > a\")\n",
    "news_list #css selector 조건에 맞는 html 요소 내용을 담은 WebElement 객체가 리스트로 묶여 출력"
   ]
  },
  {
   "cell_type": "code",
   "execution_count": null,
   "metadata": {},
   "outputs": [],
   "source": [
    "for news in news_list: #반복문으로 리스트 속 WebElement 객체에 차례대로 접근\n",
    "    print(news.text) #WebElement 객체의 .text 변수를 사용해 html 속 텍스트 내용(기사제목)을 출력"
   ]
  }
 ],
 "metadata": {
  "interpreter": {
   "hash": "27d72380f3865b4c7008c9c7901bfeb11f576f51ea7eb885160f000a78c1db8d"
  },
  "kernelspec": {
   "display_name": "Python 3.7.9 64-bit",
   "language": "python",
   "name": "python3"
  },
  "language_info": {
   "codemirror_mode": {
    "name": "ipython",
    "version": 3
   },
   "file_extension": ".py",
   "mimetype": "text/x-python",
   "name": "python",
   "nbconvert_exporter": "python",
   "pygments_lexer": "ipython3",
   "version": "3.7.9"
  },
  "orig_nbformat": 4
 },
 "nbformat": 4,
 "nbformat_minor": 2
}

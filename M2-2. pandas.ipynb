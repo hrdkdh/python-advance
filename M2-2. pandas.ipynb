{
 "cells": [
  {
   "cell_type": "code",
   "execution_count": null,
   "metadata": {},
   "outputs": [],
   "source": [
    "import pandas as pd"
   ]
  },
  {
   "cell_type": "markdown",
   "metadata": {},
   "source": [
    "### DataFrame 만들기"
   ]
  },
  {
   "cell_type": "code",
   "execution_count": null,
   "metadata": {},
   "outputs": [],
   "source": [
    "data1 = { #딕셔너리로 { \"열\" : 리스트 } 형태의 자료를 구성해 df 생성\n",
    "    \"이름\" : [\"홍길동\", \"강감찬\", \"유관순\"],\n",
    "    \"나이\" : [41, 50, 16],\n",
    "    \"성별\" : [\"남\", \"남\", \"여\"]\n",
    "}\n",
    "df = pd.DataFrame(data1)\n",
    "df"
   ]
  },
  {
   "cell_type": "code",
   "execution_count": null,
   "metadata": {},
   "outputs": [],
   "source": [
    "data2 = [ #리스트 성분으로 딕셔너리를 넣는 '중첩(nested)' 방식으로 자료를 구성해 df 생성. 결과는 위와 동일\n",
    "    { \"이름\" : \"홍길동\", \"나이\" : 41, \"성별\" : \"남\"},\n",
    "    { \"이름\" : \"강감찬\", \"나이\" : 50, \"성별\" : \"남\"},\n",
    "    { \"이름\" : \"유관순\", \"나이\" : 16, \"성별\" : \"여\"}\n",
    "]\n",
    "df = pd.DataFrame(data2)\n",
    "df"
   ]
  },
  {
   "cell_type": "code",
   "execution_count": null,
   "metadata": {},
   "outputs": [],
   "source": [
    "df.info() #df 각 열의 자료형, null갯수 등의 정보를 요약해서 출력"
   ]
  },
  {
   "cell_type": "code",
   "execution_count": null,
   "metadata": {},
   "outputs": [],
   "source": [
    "df.shape # -> (3, 3) 3행 3열의 데이터"
   ]
  },
  {
   "cell_type": "code",
   "execution_count": null,
   "metadata": {},
   "outputs": [],
   "source": [
    "df.columns"
   ]
  },
  {
   "cell_type": "code",
   "execution_count": null,
   "metadata": {},
   "outputs": [],
   "source": [
    "df.columns #컬럼명을 list로 묶어 출력(Index 객체)\n",
    "cols = df.columns\n",
    "for col in cols: #Index 객체는 반복문으로 접근 가능\n",
    "    print(col) #반복문을 통해 컬럼명에 따로 접근해 print 실행"
   ]
  },
  {
   "cell_type": "markdown",
   "metadata": {},
   "source": [
    "### 파일/클립보드에서 DataFrame 만들기"
   ]
  },
  {
   "cell_type": "code",
   "execution_count": null,
   "metadata": {},
   "outputs": [],
   "source": [
    "df = pd.read_excel(\"data/성적 리스트.xlsx\") #엑셀파일 경로를 넣어 엑셀 내용을 DataFrame으로 변환\n",
    "df.head()"
   ]
  },
  {
   "cell_type": "code",
   "execution_count": null,
   "metadata": {},
   "outputs": [],
   "source": [
    "#DRM이 걸린 문서의 경우 엑셀화면에서 영역 지정 후 복사 → read_clipboard()를 통해 df 생성 가능\n",
    "df = pd.read_clipboard() #코드 실행 전 클립보드에 데이터 복사해 놓을 것\n",
    "df.head()"
   ]
  },
  {
   "cell_type": "markdown",
   "metadata": {},
   "source": [
    "### DataFrame 인덱싱/슬라이싱"
   ]
  },
  {
   "cell_type": "code",
   "execution_count": null,
   "metadata": {},
   "outputs": [],
   "source": [
    "df = pd.read_excel(\"data/성적 리스트.xlsx\")"
   ]
  },
  {
   "cell_type": "code",
   "execution_count": null,
   "metadata": {},
   "outputs": [],
   "source": [
    "df[\"성명\"] #열이름을 넣어 인덱싱 -> 선택한 열의 내용이 Series로 반환"
   ]
  },
  {
   "cell_type": "code",
   "execution_count": null,
   "metadata": {},
   "outputs": [],
   "source": [
    "df[[\"성명\"]] #열이름을 리스트로 묶어 인덱싱 -> 여러 열 선택이 가능하므로 DataFrame으로 반환"
   ]
  },
  {
   "cell_type": "code",
   "execution_count": null,
   "metadata": {},
   "outputs": [],
   "source": [
    "df[[\"반\", \"성명\"]] #여러 열을 묶어 인덱싱"
   ]
  },
  {
   "cell_type": "code",
   "execution_count": null,
   "metadata": {},
   "outputs": [],
   "source": [
    "df[[\"반\", \"성명\"]][0:5] #반, 성명 열의 0~4행(5건) 출력"
   ]
  },
  {
   "cell_type": "code",
   "execution_count": null,
   "metadata": {},
   "outputs": [],
   "source": [
    "#loc : 이름(라벨)을 이용한 슬라이싱. 행의 라벨인 index 이름과 열의 라벨인 컬럼명으로 슬라이싱하는 방법\n",
    "df.loc[[0, 2, 5], [\"반\", \"성명\", \"국어\"]] #index 이름이 0, 2, 5인 행의 반, 성명, 국어 데이터만 출력"
   ]
  },
  {
   "cell_type": "code",
   "execution_count": null,
   "metadata": {},
   "outputs": [],
   "source": [
    "#loc는 행의 라벨인 index 이름으로 슬라이싱하는 것이 원칙이나, index가 IndexRange인 경우에 한해 인덱스 범위를 지정하는 것도 예외적으로 가능\n",
    "df.loc[0:3, [\"반\", \"성명\", \"국어\"]] #index가 0~3에 해당하는 행의 반, 성명, 국어 데이터만 출력"
   ]
  },
  {
   "cell_type": "code",
   "execution_count": null,
   "metadata": {},
   "outputs": [],
   "source": [
    "#iloc : 행/열의 번호(integer)를 이용한 슬라이싱. 정수가 아닌 문자열이 들어가면 에러가 발생하므로 주의\n",
    "df.iloc[[0, 2, 5], [0, 1, 2]] #0번째, 2번째, 5번째인 행의 0번째(반), 1번째(성명), 2번째반(국어) 데이터만 출력"
   ]
  },
  {
   "cell_type": "code",
   "execution_count": null,
   "metadata": {},
   "outputs": [],
   "source": [
    "#행과 열에 대한 기준을 리스트가 아닌 범위로 지정하여 슬라이싱 할 수도 있음\n",
    "df.iloc[0:3, 0:3] #행번호 0~2에 해당하는 행, 열번호 0~2에 해당하는 열의 데이터만 출력"
   ]
  },
  {
   "cell_type": "markdown",
   "metadata": {},
   "source": [
    "### DataFrame에 새로운 내용 삽입"
   ]
  },
  {
   "cell_type": "code",
   "execution_count": null,
   "metadata": {},
   "outputs": [],
   "source": [
    "df = pd.read_excel(\"data/성적 리스트.xlsx\")\n",
    "\n",
    "#열 추가 : 모든 행에 '역사' 열을 새롭게 추가하고 기본값을 0으로 입력\n",
    "df[\"역사\"] = 0\n",
    "df"
   ]
  },
  {
   "cell_type": "code",
   "execution_count": null,
   "metadata": {},
   "outputs": [],
   "source": [
    "#행 추가 : 새로운 데이터를 딕셔너리 자료로 만든 후 append() 함수를 통해 입력하고, 결과를 원본 df에 덮어씌움\n",
    "new_data = { \"반\" : \"1반\", \"성명\" : \"강감찬\", \"국어\" : 80, \"영어\" : 75, \"수학\" : 95, \"사회\" : 75, \"과학\" : 98, \"역사\" : 82 }\n",
    "df = df.append(new_data, ignore_index=True) #ignore_index 파라미터를 True로 해줘야 append 가능\n",
    "df"
   ]
  },
  {
   "cell_type": "markdown",
   "metadata": {},
   "source": [
    "### 조건에 따른 검색"
   ]
  },
  {
   "cell_type": "code",
   "execution_count": null,
   "metadata": {},
   "outputs": [],
   "source": [
    "df = pd.read_excel(\"data/성적 리스트.xlsx\")\n",
    "\n",
    "#수치형 데이터는 비교연산자로, 문자 데이터는 str.contrains() 메서드를 이용해 조건문 입력"
   ]
  },
  {
   "cell_type": "code",
   "execution_count": null,
   "metadata": {},
   "outputs": [],
   "source": [
    "df[(df[\"국어\"] > 90)] #국어 점수가 90점을 초과하는 행만 출력"
   ]
  },
  {
   "cell_type": "code",
   "execution_count": null,
   "metadata": {},
   "outputs": [],
   "source": [
    "df[(df[\"성명\"].str.contains(\"홍\"))] #성명에 '홍' 글자가 포함된 행만 출력"
   ]
  },
  {
   "cell_type": "code",
   "execution_count": null,
   "metadata": {},
   "outputs": [],
   "source": [
    "#2개 이상의 조건을 조합하려면 AND기호(&), OR기호(|)를 사용\n",
    "df[(df[\"국어\"] >= 80) & (df[\"영어\"] >= 80)] #국어와 영어 모두 80점 이상인 행만 출력(AND 조건)"
   ]
  },
  {
   "cell_type": "code",
   "execution_count": null,
   "metadata": {},
   "outputs": [],
   "source": [
    "df[(df[\"국어\"] >= 95) | (df[\"영어\"] >= 95)] #국어나 영어 둘 중 하나라도 95점 이상인 행이 있다면 모두 출력(OR 조건)"
   ]
  },
  {
   "cell_type": "code",
   "execution_count": null,
   "metadata": {},
   "outputs": [],
   "source": [
    "#loc함수를 사용하면 조건 + 열 기준을 동시에 적용해 슬라이싱할 수 있음\n",
    "df.loc[(df[\"국어\"] > 90), [\"성명\", \"국어\", \"영어\"]] #국어 점수가 90점을 초과하는 행들의 성명, 국어, 영어 열만 출력"
   ]
  },
  {
   "cell_type": "markdown",
   "metadata": {},
   "source": [
    "### 연습 : 특정 소속 직원만 골라내기\n",
    "'직원 리스트.xlsx' 파일을 Pandas로 로드해 DataFrame으로 만든 후, '재무실'과 '리더십교육그룹'에\u000b속한 직원들의 명단만 따로 추출하여 각각 새로운 DataFrame으로 만들어 보세요."
   ]
  },
  {
   "cell_type": "code",
   "execution_count": null,
   "metadata": {},
   "outputs": [],
   "source": [
    "import pandas as pd\n",
    "\n",
    "df = pd.read_excel(\"data/직원 리스트.xlsx\")\n",
    "\n",
    "df1 = df[(df[\"담당\"].str.contains(\"재무실\"))]\n",
    "df2 = df[(df[\"담당\"].str.contains(\"리더십\"))]\n",
    "\n",
    "display(df1)\n",
    "display(df2)"
   ]
  },
  {
   "cell_type": "markdown",
   "metadata": {},
   "source": [
    "### 문자 데이터 핸들링하기"
   ]
  },
  {
   "cell_type": "code",
   "execution_count": null,
   "metadata": {},
   "outputs": [],
   "source": [
    "df = pd.read_excel(\"data/인원 리스트.xlsx\")\n",
    "df"
   ]
  },
  {
   "cell_type": "code",
   "execution_count": null,
   "metadata": {},
   "outputs": [],
   "source": [
    "#'성명' 열을 만들고 성과 이름을 붙여 새롭게 데이터를 입력\n",
    "df[\"성명\"] = df[\"성\"] + df[\"이름\"]\n",
    "df"
   ]
  },
  {
   "cell_type": "code",
   "execution_count": null,
   "metadata": {},
   "outputs": [],
   "source": [
    "#생년월일 열을 만들고 주민등록번호 앞 6자리를 빼내어 입력\n",
    "df[\"생년월일\"] = df[\"주민등록번호\"].str[:6]\n",
    "df"
   ]
  },
  {
   "cell_type": "code",
   "execution_count": null,
   "metadata": {},
   "outputs": [],
   "source": [
    "#전화번호에서 '-' 기호를 모두 제거\n",
    "df[\"전화번호\"] = df[\"전화번호\"].str.replace(\"-\", \"\")\n",
    "df"
   ]
  },
  {
   "cell_type": "markdown",
   "metadata": {},
   "source": [
    "### 수치 데이터 핸들링하기"
   ]
  },
  {
   "cell_type": "code",
   "execution_count": null,
   "metadata": {},
   "outputs": [],
   "source": [
    "df = pd.read_excel(\"data/성적 리스트.xlsx\")\n",
    "df"
   ]
  },
  {
   "cell_type": "code",
   "execution_count": null,
   "metadata": {},
   "outputs": [],
   "source": [
    "#기술통계 바로 보기. 수치형 데이터에 해당하는 열만 추려내 기술통계를 요약해 보여줌\n",
    "df.describe()"
   ]
  },
  {
   "cell_type": "code",
   "execution_count": null,
   "metadata": {},
   "outputs": [],
   "source": [
    "#국어 과목의 합계를 출력. axis를 지정하지 않으면 axis=0을 기본값으로 하여 세로 방향 합계 출력\n",
    "df[\"국어\"].sum() #출력결과 : 1508"
   ]
  },
  {
   "cell_type": "code",
   "execution_count": null,
   "metadata": {},
   "outputs": [],
   "source": [
    "#axis=1로 하여 인원별(가로방향) 모든 과목의 합계를 출력하고 새로운 '합계' 열에 저장\n",
    "df[\"합계\"] = df.sum(axis=1)\n",
    "df"
   ]
  },
  {
   "cell_type": "code",
   "execution_count": null,
   "metadata": {},
   "outputs": [],
   "source": [
    "#'평균' 열을 만들고 모든 과목의 평균을 계산해 저장\n",
    "df[\"평균\"] = df.mean(axis=1)\n",
    "df"
   ]
  }
 ],
 "metadata": {
  "interpreter": {
   "hash": "27d72380f3865b4c7008c9c7901bfeb11f576f51ea7eb885160f000a78c1db8d"
  },
  "kernelspec": {
   "display_name": "Python 3.7.9 64-bit",
   "language": "python",
   "name": "python3"
  },
  "language_info": {
   "codemirror_mode": {
    "name": "ipython",
    "version": 3
   },
   "file_extension": ".py",
   "mimetype": "text/x-python",
   "name": "python",
   "nbconvert_exporter": "python",
   "pygments_lexer": "ipython3",
   "version": "3.7.9"
  },
  "orig_nbformat": 4
 },
 "nbformat": 4,
 "nbformat_minor": 2
}

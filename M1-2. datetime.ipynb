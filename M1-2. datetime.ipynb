{
 "cells": [
  {
   "cell_type": "markdown",
   "metadata": {},
   "source": [
    "### 시간 가져오기"
   ]
  },
  {
   "cell_type": "code",
   "execution_count": null,
   "metadata": {},
   "outputs": [],
   "source": [
    "from datetime import datetime"
   ]
  },
  {
   "cell_type": "code",
   "execution_count": null,
   "metadata": {},
   "outputs": [],
   "source": [
    "#현재 날짜와 시간 가져오기\n",
    "now = datetime.now() #날짜 정보가 datetime 객체로 저장되어 출력됨\n",
    "now #출력결과 : datetime.datetime(2022, 5, 25, 8, 31, 39, 808794)"
   ]
  },
  {
   "cell_type": "code",
   "execution_count": null,
   "metadata": {},
   "outputs": [],
   "source": [
    "#현재 날짜에서 년월일시만 따로 뽑아 출력\n",
    "now.year, now.month, now.day, now.hour, now.minute, now.second"
   ]
  },
  {
   "cell_type": "code",
   "execution_count": null,
   "metadata": {},
   "outputs": [],
   "source": [
    "#현재 날짜를 문자열 자료형으로 변환해 출력하기(strftime은 string from time의 줄임말)\n",
    "datetime.strftime(now, \"%Y-%m-%d %H:%M:%S\") #입력한 포맷에 맞춰 문자열을 datetime으로 변환한 후 출력해 줌"
   ]
  },
  {
   "cell_type": "code",
   "execution_count": null,
   "metadata": {},
   "outputs": [],
   "source": [
    "#문자열로 된 날짜를 datetime 객체로 만들기(strptime : time parsed from a string)\n",
    "datetime1 = datetime.strptime(\"2022-05-24\", \"%Y-%m-%d\")\n",
    "datetime2 = datetime.strptime(\"2022/05/24 16:25:30\", \"%Y/%m/%d %H:%M:%S\")\n",
    "datetime1, datetime2"
   ]
  },
  {
   "cell_type": "markdown",
   "metadata": {},
   "source": [
    "### 시간 계산하기"
   ]
  },
  {
   "cell_type": "code",
   "execution_count": null,
   "metadata": {},
   "outputs": [],
   "source": [
    "#시간 계산을 위해서는 datetime 패키지의 timedelta 모듈을 로드하여 사용\n",
    "from datetime import timedelta"
   ]
  },
  {
   "cell_type": "code",
   "execution_count": null,
   "metadata": {},
   "outputs": [],
   "source": [
    "#두 날짜 사이의 차이 구하기\n",
    "gap1 = now - datetime1\n",
    "gap1 "
   ]
  },
  {
   "cell_type": "code",
   "execution_count": null,
   "metadata": {},
   "outputs": [],
   "source": [
    "gap2 = now - datetime2\n",
    "gap2 "
   ]
  },
  {
   "cell_type": "code",
   "execution_count": null,
   "metadata": {},
   "outputs": [],
   "source": [
    "before1 = now - timedelta(days=20) #지금으로부터 20일 전 날짜 구하기\n",
    "datetime.strftime(before1, \"%Y-%m-%d\") "
   ]
  },
  {
   "cell_type": "code",
   "execution_count": null,
   "metadata": {},
   "outputs": [],
   "source": [
    "before2 = now - timedelta(hours=4) #지금으로부터 4시간 전 시간 구하기\n",
    "datetime.strftime(before2, \"%Y-%m-%d %H:%M:%S\") "
   ]
  },
  {
   "cell_type": "code",
   "execution_count": null,
   "metadata": {},
   "outputs": [],
   "source": [
    "before3 = now - timedelta(days=365) #1년 전 오늘의 요일 구하기\n",
    "datetime.strftime(before3, \"%A\") "
   ]
  },
  {
   "cell_type": "markdown",
   "metadata": {},
   "source": [
    "### 기간 계산하기\n",
    "datetime 모듈을 활용하면 두 날짜 사이의 기간을 정확히 계산할 수 있습니다.\n",
    "\n",
    "두 날짜 사이의 기간은 몇일인지, 그리고 오늘로부터 100일후의 날짜는 언제인지 알아보세요."
   ]
  },
  {
   "cell_type": "code",
   "execution_count": 11,
   "metadata": {},
   "outputs": [
    {
     "name": "stdout",
     "output_type": "stream",
     "text": [
      "오늘은 내가 태어난 날로부터 10,689일이 지난 날이고\n",
      "지금으로부터 100일 뒤는 2022-09-17 입니다.\n"
     ]
    }
   ],
   "source": [
    "from datetime import datetime\n",
    "from datetime import timedelta\n",
    "\n",
    "now = datetime.now() #현재 시간 불러오기\n",
    "my_birthday = datetime.strptime(\"1993-03-04\", \"%Y-%m-%d\") #내 생일을 datetime 객체로 바꾸기\n",
    "\n",
    "days_from_birthday = now - my_birthday #현재 시간에서 생일을 빼기\n",
    "print(\"오늘은 내가 태어난 날로부터 {:,}일이 지난 날\".format(days_from_birthday.days))\n",
    "\n",
    "after_100_from_now = now + timedelta(days=100) #현재 시간에서 100일을 더하기\n",
    "after_100_from_now = datetime.strftime(after_100_from_now, \"%Y-%m-%d\") #datetime을 str로 바꾸기\n",
    "print(\"지금으로부터 100일 뒤는 {} 입니다.\".format(after_100_from_now))\n"
   ]
  }
 ],
 "metadata": {
  "interpreter": {
   "hash": "27d72380f3865b4c7008c9c7901bfeb11f576f51ea7eb885160f000a78c1db8d"
  },
  "kernelspec": {
   "display_name": "Python 3.7.9 64-bit",
   "language": "python",
   "name": "python3"
  },
  "language_info": {
   "codemirror_mode": {
    "name": "ipython",
    "version": 3
   },
   "file_extension": ".py",
   "mimetype": "text/x-python",
   "name": "python",
   "nbconvert_exporter": "python",
   "pygments_lexer": "ipython3",
   "version": "3.7.9"
  },
  "orig_nbformat": 4
 },
 "nbformat": 4,
 "nbformat_minor": 2
}

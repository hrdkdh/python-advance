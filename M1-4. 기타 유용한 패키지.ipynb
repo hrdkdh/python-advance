{
 "cells": [
  {
   "cell_type": "markdown",
   "metadata": {},
   "source": [
    "### clipboard 모듈 : 클립보드 내용 복사/붙여넣기하기"
   ]
  },
  {
   "cell_type": "code",
   "execution_count": null,
   "metadata": {},
   "outputs": [],
   "source": [
    "import clipboard"
   ]
  },
  {
   "cell_type": "code",
   "execution_count": null,
   "metadata": {},
   "outputs": [],
   "source": [
    "#clipboard.copy(\"클립보드에 넣을 내용\") → 텍스트가 클립보드에 복사됨\n",
    "clipboard.copy(\"포스코\") #메모장을 열고, Ctrl+V를 실행하면 '포스코' 텍스트가 붙여넣기 됨"
   ]
  },
  {
   "cell_type": "code",
   "execution_count": null,
   "metadata": {},
   "outputs": [],
   "source": [
    "#clipboard.paste() → 클립보드에 복사되어 있는 텍스트를 리턴해줌\n",
    "clipboard_data = clipboard.paste() #아무 텍스트나 복사한 후 실행\n",
    "clipboard_data #출력결과 : 복사해 놓은 텍스트가 출력됨"
   ]
  },
  {
   "cell_type": "markdown",
   "metadata": {},
   "source": [
    "### re 모듈 : 정규표현식으로 문자열 정보 일괄처리하기\n",
    "※정규표현식에 대해 더 자세히 알고 싶다면 : https://wikidocs.net/1642"
   ]
  },
  {
   "cell_type": "code",
   "execution_count": null,
   "metadata": {},
   "outputs": [],
   "source": [
    "import re"
   ]
  },
  {
   "cell_type": "code",
   "execution_count": null,
   "metadata": {},
   "outputs": [],
   "source": [
    "# -(바), 공백, /(슬래시)를 체크하는 정규표현식을 넣어 Pattern 객체를 만든다.\n",
    "pattern = re.compile(\"(-| |/)\")"
   ]
  },
  {
   "cell_type": "code",
   "execution_count": null,
   "metadata": {},
   "outputs": [],
   "source": [
    "#특수문자가 섞여 있는 전화번호 목록을 리스트로 만든다.\n",
    "numbers = [\"010-1234-1234\", \"010 1234 4321\", \"010/1234/5678\", \"010/1234-2345\"]\n",
    "for number in numbers: #반복문을 통해 전화번호 정보에 차례대로 접근\n",
    "    print(pattern.sub(\"\", number)) #Pattern 객체의 sub() 메서드를 통해 특수문자를 모두 제거한 후 출력"
   ]
  }
 ],
 "metadata": {
  "interpreter": {
   "hash": "27d72380f3865b4c7008c9c7901bfeb11f576f51ea7eb885160f000a78c1db8d"
  },
  "kernelspec": {
   "display_name": "Python 3.7.9 64-bit",
   "language": "python",
   "name": "python3"
  },
  "language_info": {
   "codemirror_mode": {
    "name": "ipython",
    "version": 3
   },
   "file_extension": ".py",
   "mimetype": "text/x-python",
   "name": "python",
   "nbconvert_exporter": "python",
   "pygments_lexer": "ipython3",
   "version": "3.7.9"
  },
  "orig_nbformat": 4
 },
 "nbformat": 4,
 "nbformat_minor": 2
}

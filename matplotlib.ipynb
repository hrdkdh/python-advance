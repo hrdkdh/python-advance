{
 "cells": [
  {
   "cell_type": "code",
   "execution_count": null,
   "metadata": {},
   "outputs": [],
   "source": [
    "import matplotlib.pyplot as plt"
   ]
  },
  {
   "cell_type": "markdown",
   "metadata": {},
   "source": [
    "### 기본 그래프 그려보기"
   ]
  },
  {
   "cell_type": "code",
   "execution_count": null,
   "metadata": {},
   "outputs": [],
   "source": [
    "#데이터 생성\n",
    "x_list = range(0, 11) #0~10까지의 값을 리스트로 저장\n",
    "y_list = [] #빈 리스트 변수를 만들고 y_list 변수에 저장\n",
    "for x in x_list:\n",
    "    y = 0.5*x + 3 #x값에 따른 y값을 1차 방정식으로 계산\n",
    "    y_list.append(y) #계산된 y값을 y_list 리스트 변수에 차곡 차곡 쌓음"
   ]
  },
  {
   "cell_type": "code",
   "execution_count": null,
   "metadata": {},
   "outputs": [],
   "source": [
    "#막대그래프 그리기\n",
    "plt.bar(x_list, y_list)\n",
    "plt.xlim(0, 11) #x축의 범위를 0~11로 설정\n",
    "plt.ylim(0, 11) #y축의 범위를 0~11로 설정\n",
    "plt.show()"
   ]
  },
  {
   "cell_type": "code",
   "execution_count": null,
   "metadata": {},
   "outputs": [],
   "source": [
    "#선그래프 그리기\n",
    "plt.plot(x_list, y_list)\n",
    "plt.xlim(0, 10) #x축의 범위를 0~10으로 설정\n",
    "plt.ylim(0, 10) #y축의 범위를 0~10으로 설정\n",
    "plt.show()"
   ]
  },
  {
   "cell_type": "code",
   "execution_count": null,
   "metadata": {},
   "outputs": [],
   "source": [
    "#원그래프 그리기\n",
    "plt.pie(x_list)\n",
    "plt.show()"
   ]
  },
  {
   "cell_type": "markdown",
   "metadata": {},
   "source": [
    "### 응용 그래프 그려보기"
   ]
  },
  {
   "cell_type": "code",
   "execution_count": null,
   "metadata": {},
   "outputs": [],
   "source": [
    "import pandas as pd\n",
    "\n",
    "#pandas를 이용해 데이터 로드\n",
    "df = pd.read_excel(\"data/성적 리스트.xlsx\")\n",
    "df"
   ]
  },
  {
   "cell_type": "code",
   "execution_count": null,
   "metadata": {},
   "outputs": [],
   "source": [
    "#국어, 영어, 수학 과목의 분산을 보기 위해 박스플롯 그리기\n",
    "plt.boxplot(df[[\"국어\", \"영어\", \"수학\"]])\n",
    "plt.show()"
   ]
  },
  {
   "cell_type": "code",
   "execution_count": null,
   "metadata": {},
   "outputs": [],
   "source": [
    "#과학 과목의 히스토그램 그리기\n",
    "plt.hist(df[\"과학\"])\n",
    "plt.show()"
   ]
  },
  {
   "cell_type": "code",
   "execution_count": null,
   "metadata": {},
   "outputs": [],
   "source": [
    "#국어와 과학 과목의 산점도 그리기\n",
    "plt.scatter(df[\"국어\"], df[\"과학\"])\n",
    "plt.show()"
   ]
  }
 ],
 "metadata": {
  "interpreter": {
   "hash": "27d72380f3865b4c7008c9c7901bfeb11f576f51ea7eb885160f000a78c1db8d"
  },
  "kernelspec": {
   "display_name": "Python 3.7.9 64-bit",
   "language": "python",
   "name": "python3"
  },
  "language_info": {
   "codemirror_mode": {
    "name": "ipython",
    "version": 3
   },
   "file_extension": ".py",
   "mimetype": "text/x-python",
   "name": "python",
   "nbconvert_exporter": "python",
   "pygments_lexer": "ipython3",
   "version": "3.7.9"
  },
  "orig_nbformat": 4
 },
 "nbformat": 4,
 "nbformat_minor": 2
}
